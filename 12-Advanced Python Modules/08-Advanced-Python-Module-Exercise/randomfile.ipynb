{
 "cells": [
  {
   "cell_type": "code",
   "execution_count": 1,
   "metadata": {},
   "outputs": [
    {
     "ename": "ReadError",
     "evalue": " is not a zip file",
     "output_type": "error",
     "traceback": [
      "\u001b[1;31m---------------------------------------------------------------------------\u001b[0m",
      "\u001b[1;31mReadError\u001b[0m                                 Traceback (most recent call last)",
      "\u001b[1;32mPierian-Data\\Complete-Python-3-Bootcamp\\12-Advanced Python Modules\\08-Advanced-Python-Module-Exercise\\randomfile.ipynb Cell 1\u001b[0m line \u001b[0;36m3\n\u001b[0;32m      <a href='vscode-notebook-cell://github/Pierian-Data/Complete-Python-3-Bootcamp/12-Advanced%20Python%20Modules/08-Advanced-Python-Module-Exercise/randomfile.ipynb#W0sdnNjb2RlLXZmcw%3D%3D?line=0'>1</a>\u001b[0m \u001b[39mimport\u001b[39;00m \u001b[39mshutil\u001b[39;00m\n\u001b[1;32m----> <a href='vscode-notebook-cell://github/Pierian-Data/Complete-Python-3-Bootcamp/12-Advanced%20Python%20Modules/08-Advanced-Python-Module-Exercise/randomfile.ipynb#W0sdnNjb2RlLXZmcw%3D%3D?line=2'>3</a>\u001b[0m shutil\u001b[39m.\u001b[39;49munpack_archive(\u001b[39m\"\u001b[39;49m\u001b[39m\"\u001b[39;49m,\u001b[39m\"\u001b[39;49m\u001b[39mNew_unzipped_file\u001b[39;49m\u001b[39m\"\u001b[39;49m,\u001b[39m\"\u001b[39;49m\u001b[39mzip\u001b[39;49m\u001b[39m\"\u001b[39;49m)\n",
      "File \u001b[1;32mc:\\Users\\LENOVO\\AppData\\Local\\Programs\\Python\\Python311\\Lib\\shutil.py:1318\u001b[0m, in \u001b[0;36munpack_archive\u001b[1;34m(filename, extract_dir, format, filter)\u001b[0m\n\u001b[0;32m   1315\u001b[0m         \u001b[39mraise\u001b[39;00m \u001b[39mValueError\u001b[39;00m(\u001b[39m\"\u001b[39m\u001b[39mUnknown unpack format \u001b[39m\u001b[39m'\u001b[39m\u001b[39m{0}\u001b[39;00m\u001b[39m'\u001b[39m\u001b[39m\"\u001b[39m\u001b[39m.\u001b[39mformat(\u001b[39mformat\u001b[39m)) \u001b[39mfrom\u001b[39;00m \u001b[39mNone\u001b[39;00m\n\u001b[0;32m   1317\u001b[0m     func \u001b[39m=\u001b[39m format_info[\u001b[39m1\u001b[39m]\n\u001b[1;32m-> 1318\u001b[0m     func(filename, extract_dir, \u001b[39m*\u001b[39;49m\u001b[39m*\u001b[39;49m\u001b[39mdict\u001b[39;49m(format_info[\u001b[39m2\u001b[39;49m]), \u001b[39m*\u001b[39;49m\u001b[39m*\u001b[39;49mfilter_kwargs)\n\u001b[0;32m   1319\u001b[0m \u001b[39melse\u001b[39;00m:\n\u001b[0;32m   1320\u001b[0m     \u001b[39m# we need to look at the registered unpackers supported extensions\u001b[39;00m\n\u001b[0;32m   1321\u001b[0m     \u001b[39mformat\u001b[39m \u001b[39m=\u001b[39m _find_unpack_format(filename)\n",
      "File \u001b[1;32mc:\\Users\\LENOVO\\AppData\\Local\\Programs\\Python\\Python311\\Lib\\shutil.py:1214\u001b[0m, in \u001b[0;36m_unpack_zipfile\u001b[1;34m(filename, extract_dir)\u001b[0m\n\u001b[0;32m   1211\u001b[0m \u001b[39mimport\u001b[39;00m \u001b[39mzipfile\u001b[39;00m  \u001b[39m# late import for breaking circular dependency\u001b[39;00m\n\u001b[0;32m   1213\u001b[0m \u001b[39mif\u001b[39;00m \u001b[39mnot\u001b[39;00m zipfile\u001b[39m.\u001b[39mis_zipfile(filename):\n\u001b[1;32m-> 1214\u001b[0m     \u001b[39mraise\u001b[39;00m ReadError(\u001b[39m\"\u001b[39m\u001b[39m%s\u001b[39;00m\u001b[39m is not a zip file\u001b[39m\u001b[39m\"\u001b[39m \u001b[39m%\u001b[39m filename)\n\u001b[0;32m   1216\u001b[0m \u001b[39mzip\u001b[39m \u001b[39m=\u001b[39m zipfile\u001b[39m.\u001b[39mZipFile(filename)\n\u001b[0;32m   1217\u001b[0m \u001b[39mtry\u001b[39;00m:\n",
      "\u001b[1;31mReadError\u001b[0m:  is not a zip file"
     ]
    }
   ],
   "source": []
  },
  {
   "cell_type": "code",
   "execution_count": 14,
   "metadata": {},
   "outputs": [],
   "source": [
    "import os\n",
    "import re\n"
   ]
  },
  {
   "cell_type": "code",
   "execution_count": 57,
   "metadata": {},
   "outputs": [
    {
     "name": "stdout",
     "output_type": "stream",
     "text": [
      "None\n"
     ]
    }
   ],
   "source": [
    "import os\n",
    "import re\n",
    "def find_pattern(file,pattern):\n",
    "    pattern=r\"(\\d{3})-(\\d{3})-(\\.d{3})\"\n",
    "    f=open(file,\"r\")\n",
    "    text=f.read\n",
    "    if re.findall(pattern,text) == True :\n",
    "        return re.findall(pattern,text)\n",
    "    else:\n",
    "        return None\n",
    "def find_phonenumber():\n",
    "    for folders in os.walk(\"extracted_content\"):\n",
    "        for files in os.walk(\"extracted_content\"):\n",
    "            for content in os.walk(\"extracted_content\"): \n",
    "                print(find_pattern())\n",
    "print(find_phonenumber())\n",
    "    \n",
    "    \n",
    "    "
   ]
  },
  {
   "cell_type": "code",
   "execution_count": 58,
   "metadata": {},
   "outputs": [
    {
     "name": "stdout",
     "output_type": "stream",
     "text": [
      "None\n"
     ]
    }
   ],
   "source": []
  },
  {
   "cell_type": "code",
   "execution_count": 55,
   "metadata": {},
   "outputs": [],
   "source": [
    "import os\n"
   ]
  },
  {
   "cell_type": "code",
   "execution_count": 46,
   "metadata": {},
   "outputs": [
    {
     "data": {
      "text/plain": [
       "'C:\\\\Users\\\\LENOVO\\\\AppData\\\\Local\\\\Programs\\\\Microsoft VS Code'"
      ]
     },
     "execution_count": 46,
     "metadata": {},
     "output_type": "execute_result"
    }
   ],
   "source": [
    "pwd"
   ]
  }
 ],
 "metadata": {
  "kernelspec": {
   "display_name": "Python 3",
   "language": "python",
   "name": "python3"
  },
  "language_info": {
   "codemirror_mode": {
    "name": "ipython",
    "version": 3
   },
   "file_extension": ".py",
   "mimetype": "text/x-python",
   "name": "python",
   "nbconvert_exporter": "python",
   "pygments_lexer": "ipython3",
   "version": "3.11.5"
  }
 },
 "nbformat": 4,
 "nbformat_minor": 2
}
