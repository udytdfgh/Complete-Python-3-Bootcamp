{
 "cells": [
  {
   "cell_type": "code",
   "execution_count": 34,
   "metadata": {},
   "outputs": [],
   "source": [
    "#Write a Python program to create a person class. Include attributes like name, country and date of birth. Implement a method to determine the person's age.\n",
    "\n",
    "from datetime import date\n",
    "class Person():\n",
    "    def __init__(self,name,country,date_of_birth):\n",
    "        self.name=name\n",
    "        self.country=country\n",
    "        self.date_of_birth=date_of_birth\n",
    "    def calculate_age(self):\n",
    "        today = date.today()\n",
    "        age = today.year - self.date_of_birth.year\n",
    "        if today < date(today.year, self.date_of_birth.month, self.date_of_birth.day):\n",
    "            age -= 1\n",
    "        return f\"The age is {age}\"\n",
    "    \n",
    "\n"
   ]
  },
  {
   "cell_type": "code",
   "execution_count": 35,
   "metadata": {},
   "outputs": [],
   "source": [
    "s=Person(\"Jose\",\"America\",date(2001,7,12))"
   ]
  },
  {
   "cell_type": "code",
   "execution_count": 36,
   "metadata": {},
   "outputs": [
    {
     "data": {
      "text/plain": [
       "'The age is 22'"
      ]
     },
     "execution_count": 36,
     "metadata": {},
     "output_type": "execute_result"
    }
   ],
   "source": [
    "s.calculate_age()"
   ]
  },
  {
   "cell_type": "code",
   "execution_count": 50,
   "metadata": {},
   "outputs": [],
   "source": [
    "#Write a Python program to create a calculator class. Include methods for basic arithmetic operations.\n",
    "class Calculator():\n",
    "    def __init__(self,num1,num2):\n",
    "        self.num1=num1\n",
    "        self.num2=num2\n",
    "    def addition(self):\n",
    "        Sum=(self.num1+self.num2)\n",
    "        print(Sum)\n",
    "    def subtraction(self):\n",
    "        Minus=(self.num1-self.num2)\n",
    "        return Minus\n",
    "    def multiplication(self):\n",
    "        Multiply=self.num1*self.num2\n",
    "        return Multiply\n",
    "    def division(self):\n",
    "        if self.num2 != 0:\n",
    "                Div = self.num1 / self.num2\n",
    "                return Div\n",
    "        else:\n",
    "            return \"Cannot divide by zero\"\n",
    "\n",
    "    "
   ]
  },
  {
   "cell_type": "code",
   "execution_count": 57,
   "metadata": {},
   "outputs": [],
   "source": [
    "s=Calculator(3,8)"
   ]
  },
  {
   "cell_type": "code",
   "execution_count": 59,
   "metadata": {},
   "outputs": [
    {
     "name": "stdout",
     "output_type": "stream",
     "text": [
      "11\n"
     ]
    }
   ],
   "source": [
    "s.addition()"
   ]
  },
  {
   "cell_type": "code",
   "execution_count": 6,
   "metadata": {},
   "outputs": [],
   "source": [
    "#Write a Python program to create a class representing a stack data structure. Include methods for pushing and popping elements.\n",
    "class Stack():\n",
    "    def __init__(self):\n",
    "        self.lst=[]\n",
    "    def push(self):\n",
    "        x=self.lst.append()\n",
    "        return x\n",
    "    def pop(self):\n",
    "        x=[]\n",
    "        y=x.pop()\n",
    "        return y\n",
    "\n",
    "\n",
    "\n",
    "\n"
   ]
  },
  {
   "cell_type": "code",
   "execution_count": 2,
   "metadata": {},
   "outputs": [],
   "source": [
    "s=Stack()"
   ]
  },
  {
   "cell_type": "code",
   "execution_count": 7,
   "metadata": {},
   "outputs": [
    {
     "ename": "AttributeError",
     "evalue": "'list' object has no attribute 'push'",
     "output_type": "error",
     "traceback": [
      "\u001b[1;31m---------------------------------------------------------------------------\u001b[0m",
      "\u001b[1;31mAttributeError\u001b[0m                            Traceback (most recent call last)",
      "Cell \u001b[1;32mIn[7], line 1\u001b[0m\n\u001b[1;32m----> 1\u001b[0m s\u001b[39m.\u001b[39;49mpush()\n",
      "Cell \u001b[1;32mIn[1], line 6\u001b[0m, in \u001b[0;36mStack.push\u001b[1;34m(self)\u001b[0m\n\u001b[0;32m      5\u001b[0m \u001b[39mdef\u001b[39;00m \u001b[39mpush\u001b[39m(\u001b[39mself\u001b[39m):\n\u001b[1;32m----> 6\u001b[0m     x\u001b[39m=\u001b[39m\u001b[39mself\u001b[39;49m\u001b[39m.\u001b[39;49mlst\u001b[39m.\u001b[39;49mpush()\n\u001b[0;32m      7\u001b[0m     \u001b[39mreturn\u001b[39;00m x\n",
      "\u001b[1;31mAttributeError\u001b[0m: 'list' object has no attribute 'push'"
     ]
    }
   ],
   "source": [
    "s.push(5)"
   ]
  }
 ],
 "metadata": {
  "kernelspec": {
   "display_name": "Python 3",
   "language": "python",
   "name": "python3"
  },
  "language_info": {
   "codemirror_mode": {
    "name": "ipython",
    "version": 3
   },
   "file_extension": ".py",
   "mimetype": "text/x-python",
   "name": "python",
   "nbconvert_exporter": "python",
   "pygments_lexer": "ipython3",
   "version": "3.10.5"
  },
  "orig_nbformat": 4
 },
 "nbformat": 4,
 "nbformat_minor": 2
}
